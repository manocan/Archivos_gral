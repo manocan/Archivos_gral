{
  "nbformat": 4,
  "nbformat_minor": 0,
  "metadata": {
    "colab": {
      "name": "DS_Web Scrapping.ipynb",
      "provenance": [],
      "collapsed_sections": [],
      "include_colab_link": true
    },
    "kernelspec": {
      "display_name": "Python 3",
      "name": "python3"
    },
    "language_info": {
      "name": "python"
    }
  },
  "cells": [
    {
      "cell_type": "markdown",
      "metadata": {
        "id": "view-in-github",
        "colab_type": "text"
      },
      "source": [
        "<a href=\"https://colab.research.google.com/github/manocan/Archivos_gral/blob/main/DS_Web_Scrapping.ipynb\" target=\"_parent\"><img src=\"https://colab.research.google.com/assets/colab-badge.svg\" alt=\"Open In Colab\"/></a>"
      ]
    },
    {
      "cell_type": "code",
      "metadata": {
        "id": "DxinscXjDWrx",
        "colab": {
          "base_uri": "https://localhost:8080/"
        },
        "outputId": "cf524e6f-bd25-4bf6-e9ea-14c430698c9a"
      },
      "source": [
        "pip install selenium"
      ],
      "execution_count": 2,
      "outputs": [
        {
          "output_type": "stream",
          "text": [
            "Collecting selenium\n",
            "  Downloading selenium-3.141.0-py2.py3-none-any.whl (904 kB)\n",
            "\u001b[K     |████████████████████████████████| 904 kB 4.3 MB/s \n",
            "\u001b[?25hRequirement already satisfied: urllib3 in /usr/local/lib/python3.7/dist-packages (from selenium) (1.24.3)\n",
            "Installing collected packages: selenium\n",
            "Successfully installed selenium-3.141.0\n"
          ],
          "name": "stdout"
        }
      ]
    },
    {
      "cell_type": "code",
      "metadata": {
        "id": "dPdEkM64H1DR",
        "colab": {
          "base_uri": "https://localhost:8080/"
        },
        "outputId": "340cf82e-19bd-473c-df20-51ce9333961c"
      },
      "source": [
        "!apt install chromium-chromedriver\n"
      ],
      "execution_count": 1,
      "outputs": [
        {
          "output_type": "stream",
          "text": [
            "Reading package lists... Done\n",
            "Building dependency tree       \n",
            "Reading state information... Done\n",
            "The following additional packages will be installed:\n",
            "  chromium-browser chromium-browser-l10n chromium-codecs-ffmpeg-extra\n",
            "Suggested packages:\n",
            "  webaccounts-chromium-extension unity-chromium-extension\n",
            "The following NEW packages will be installed:\n",
            "  chromium-browser chromium-browser-l10n chromium-chromedriver\n",
            "  chromium-codecs-ffmpeg-extra\n",
            "0 upgraded, 4 newly installed, 0 to remove and 40 not upgraded.\n",
            "Need to get 86.0 MB of archives.\n",
            "After this operation, 298 MB of additional disk space will be used.\n",
            "Get:1 http://archive.ubuntu.com/ubuntu bionic-updates/universe amd64 chromium-codecs-ffmpeg-extra amd64 91.0.4472.101-0ubuntu0.18.04.1 [1,124 kB]\n",
            "Get:2 http://archive.ubuntu.com/ubuntu bionic-updates/universe amd64 chromium-browser amd64 91.0.4472.101-0ubuntu0.18.04.1 [76.1 MB]\n",
            "Get:3 http://archive.ubuntu.com/ubuntu bionic-updates/universe amd64 chromium-browser-l10n all 91.0.4472.101-0ubuntu0.18.04.1 [3,937 kB]\n",
            "Get:4 http://archive.ubuntu.com/ubuntu bionic-updates/universe amd64 chromium-chromedriver amd64 91.0.4472.101-0ubuntu0.18.04.1 [4,837 kB]\n",
            "90% [4 chromium-chromedriver 0 B/4,837 kB 0%]                     7,817 kB/s 0s\u001b[0mSelecting previously unselected package chromium-codecs-ffmpeg-extra.\n",
            "(Reading database ... 160837 files and directories currently installed.)\n",
            "Preparing to unpack .../chromium-codecs-ffmpeg-extra_91.0.4472.101-0ubuntu0.18.04.1_amd64.deb ...\n",
            "Unpacking chromium-codecs-ffmpeg-extra (91.0.4472.101-0ubuntu0.18.04.1) ...\n",
            "Selecting previously unselected package chromium-browser.\n",
            "Preparing to unpack .../chromium-browser_91.0.4472.101-0ubuntu0.18.04.1_amd64.deb ...\n",
            "Unpacking chromium-browser (91.0.4472.101-0ubuntu0.18.04.1) ...\n",
            "Selecting previously unselected package chromium-browser-l10n.\n",
            "Preparing to unpack .../chromium-browser-l10n_91.0.4472.101-0ubuntu0.18.04.1_all.deb ...\n",
            "Unpacking chromium-browser-l10n (91.0.4472.101-0ubuntu0.18.04.1) ...\n",
            "Selecting previously unselected package chromium-chromedriver.\n",
            "Preparing to unpack .../chromium-chromedriver_91.0.4472.101-0ubuntu0.18.04.1_amd64.deb ...\n",
            "Unpacking chromium-chromedriver (91.0.4472.101-0ubuntu0.18.04.1) ...\n",
            "Setting up chromium-codecs-ffmpeg-extra (91.0.4472.101-0ubuntu0.18.04.1) ...\n",
            "Setting up chromium-browser (91.0.4472.101-0ubuntu0.18.04.1) ...\n",
            "update-alternatives: using /usr/bin/chromium-browser to provide /usr/bin/x-www-browser (x-www-browser) in auto mode\n",
            "update-alternatives: using /usr/bin/chromium-browser to provide /usr/bin/gnome-www-browser (gnome-www-browser) in auto mode\n",
            "Setting up chromium-chromedriver (91.0.4472.101-0ubuntu0.18.04.1) ...\n",
            "Setting up chromium-browser-l10n (91.0.4472.101-0ubuntu0.18.04.1) ...\n",
            "Processing triggers for man-db (2.8.3-2ubuntu0.1) ...\n",
            "Processing triggers for hicolor-icon-theme (0.17-2) ...\n",
            "Processing triggers for mime-support (3.60ubuntu1) ...\n",
            "Processing triggers for libc-bin (2.27-3ubuntu1.2) ...\n",
            "/sbin/ldconfig.real: /usr/local/lib/python3.7/dist-packages/ideep4py/lib/libmkldnn.so.0 is not a symbolic link\n",
            "\n"
          ],
          "name": "stdout"
        }
      ]
    },
    {
      "cell_type": "code",
      "metadata": {
        "colab": {
          "base_uri": "https://localhost:8080/"
        },
        "id": "EMPMnhINDfTn",
        "outputId": "89ab235c-09f9-471b-aa47-c8b0aeb00d24"
      },
      "source": [
        "pip install beautifulSoup4"
      ],
      "execution_count": 3,
      "outputs": [
        {
          "output_type": "stream",
          "text": [
            "Requirement already satisfied: beautifulSoup4 in /usr/local/lib/python3.7/dist-packages (4.6.3)\n"
          ],
          "name": "stdout"
        }
      ]
    },
    {
      "cell_type": "code",
      "metadata": {
        "id": "gJzVE5nUDGDX"
      },
      "source": [
        "\n",
        "from bs4 import BeautifulSoup\n",
        "\n",
        "import pandas as pd"
      ],
      "execution_count": 4,
      "outputs": []
    },
    {
      "cell_type": "code",
      "metadata": {
        "colab": {
          "base_uri": "https://localhost:8080/"
        },
        "id": "ZkQI4CUaJAuW",
        "outputId": "c89d0437-3c8e-4cd6-bced-4e4ed96a4cbb"
      },
      "source": [
        "from selenium import webdriver\n",
        "chrome_options = webdriver.ChromeOptions()\n",
        "chrome_options.add_argument('--headless')\n",
        "chrome_options.add_argument('--no-sandbox')\n",
        "chrome_options.add_argument('--disable-dev-shm-usage')\n",
        "wd = webdriver.Chrome('chromedriver',chrome_options=chrome_options)\n",
        "driver =webdriver.Chrome('chromedriver',chrome_options=chrome_options)"
      ],
      "execution_count": 5,
      "outputs": [
        {
          "output_type": "stream",
          "text": [
            "/usr/local/lib/python3.7/dist-packages/ipykernel_launcher.py:6: DeprecationWarning: use options instead of chrome_options\n",
            "  \n",
            "/usr/local/lib/python3.7/dist-packages/ipykernel_launcher.py:7: DeprecationWarning: use options instead of chrome_options\n",
            "  import sys\n"
          ],
          "name": "stderr"
        }
      ]
    },
    {
      "cell_type": "code",
      "metadata": {
        "id": "Cmc8TO-pUn60"
      },
      "source": [
        "driver.get(\"https://www.amazon.in/s?k=mobile+phone&ref=nb_sb_noss_2\")\n",
        "content=driver.page_source\n",
        "soup=BeautifulSoup(content ,'html.parser')\n"
      ],
      "execution_count": 6,
      "outputs": []
    },
    {
      "cell_type": "code",
      "metadata": {
        "id": "C_BvstNeWW1D"
      },
      "source": [
        "m=soup.find_all('span' ,class_=\"a-size-medium a-color-base a-text-normal\")\n",
        "p=soup.find_all('span' ,class_=\"a-price-whole\")\n",
        "r=soup.find_all('span' ,class_=\"a-icon-alt\")"
      ],
      "execution_count": 7,
      "outputs": []
    },
    {
      "cell_type": "code",
      "metadata": {
        "id": "75zNEPMBCHnf"
      },
      "source": [
        "disc=[]\n",
        "price=[]\n",
        "rating=[]\n",
        "\n",
        "for i in m:\n",
        "  disc.append(i.text)\n",
        "for i in p:\n",
        "  price.append(i.text)\n",
        "for i in r:\n",
        "  rating.append(i.text)\n"
      ],
      "execution_count": 8,
      "outputs": []
    },
    {
      "cell_type": "code",
      "metadata": {
        "colab": {
          "base_uri": "https://localhost:8080/"
        },
        "id": "Xb6UyuLuHHEr",
        "outputId": "3b8e4222-a248-45c5-ad3a-30ecad0d4732"
      },
      "source": [
        "#\n",
        "list(m)"
      ],
      "execution_count": 16,
      "outputs": [
        {
          "output_type": "execute_result",
          "data": {
            "text/plain": [
              "[<span class=\"a-size-medium a-color-base a-text-normal\">New Apple iPhone 11 (64GB) - Green</span>,\n",
              " <span class=\"a-size-medium a-color-base a-text-normal\">New Apple iPhone 12 Mini (64GB) - Blue</span>,\n",
              " <span class=\"a-size-medium a-color-base a-text-normal\">Redmi 9 (Sky Blue, 4GB RAM, 64GB Storage) | 2.3GHz Mediatek Helio G35 Octa core Processor</span>,\n",
              " <span class=\"a-size-medium a-color-base a-text-normal\">Redmi 9A (Nature Green, 2GB RAM, 32GB Storage) | 2GHz Octa-core Helio G25 Processor | 5000 mAh Battery</span>,\n",
              " <span class=\"a-size-medium a-color-base a-text-normal\">Samsung Galaxy M31 (Ocean Blue, 6GB RAM, 128GB Storage)</span>,\n",
              " <span class=\"a-size-medium a-color-base a-text-normal\">Redmi Note 9 (Pebble Grey, 4GB RAM 64GB Storage) - 48MP Quad Camera &amp; Full HD+ Display</span>,\n",
              " <span class=\"a-size-medium a-color-base a-text-normal\">Oppo A31 (Fantasy White, 6GB RAM, 128GB Storage) with No Cost EMI/Additional Exchange Offers</span>,\n",
              " <span class=\"a-size-medium a-color-base a-text-normal\">Redmi 9 Power (Mighty Black, 6GB RAM, 128GB Storage) - 6000mAh Battery |FHD+ Screen| 48MP Quad Camera | Snapdragon 662 Processor | Alexa Hands-Free Capable</span>,\n",
              " <span class=\"a-size-medium a-color-base a-text-normal\">Samsung Galaxy M31 (Space Black, 6GB RAM, 128GB Storage)</span>,\n",
              " <span class=\"a-size-medium a-color-base a-text-normal\">realme C11 (2021) (Cool Blue, 2GB RAM, 32GB Storage) with No Cost EMI/Additional Exchange Offers</span>,\n",
              " <span class=\"a-size-medium a-color-base a-text-normal\">Mi 11X Pro 5G (Lunar White, 8GB RAM, 128GB Storage) | Snapdragon 888 | 108MP Camera | 6 Month Free Screen Replacement for Prime | Additional 5000 Off on Exchange</span>,\n",
              " <span class=\"a-size-medium a-color-base a-text-normal\">Redmi 9 Prime (Sunrise Flare, 4GB RAM, 64GB Storage)- Full HD+ Display &amp; AI Quad Camera</span>,\n",
              " <span class=\"a-size-medium a-color-base a-text-normal\">Redmi 9A (Sea Blue 3GB RAM 32GB Storage)| 2GHz Octa-core Helio G25 Processor | 5000 mAh Battery</span>,\n",
              " <span class=\"a-size-medium a-color-base a-text-normal\">Redmi 9A (Midnight Black 2GB RAM 32GB Storage) | 2GHz Octa-core Helio G25 Processor | 5000 mAh Battery</span>,\n",
              " <span class=\"a-size-medium a-color-base a-text-normal\">Redmi 9 (Sporty Orange, 4GB RAM, 64GB Storage) | 2.3GHz Mediatek Helio G35 Octa core Processor</span>,\n",
              " <span class=\"a-size-medium a-color-base a-text-normal\">Redmi 9 Power (Mighty Black 4GB RAM 64GB Storage) - 6000mAh Battery |FHD+ Screen | 48MP Quad Camera | Alexa Hands-Free Capable</span>,\n",
              " <span class=\"a-size-medium a-color-base a-text-normal\">Samsung Galaxy M02s (Black,4GB RAM, 64GB Storage) | 5000 mAh | Triple Camera</span>,\n",
              " <span class=\"a-size-medium a-color-base a-text-normal\">Panasonic Eluga i7 (2GB RAM, 16GB Storage, Finger Print Sensor, 4000mAh Battery) (Black)</span>,\n",
              " <span class=\"a-size-medium a-color-base a-text-normal\">Redmi 9A (Sea Blue 2GB RAM 32GB Storage) | 2GHz Octa-core Helio G25 Processor | 5000 mAh Battery</span>,\n",
              " <span class=\"a-size-medium a-color-base a-text-normal\">Samsung Galaxy M31 (Ocean Blue, 6GB RAM, 128GB Storage)</span>,\n",
              " <span class=\"a-size-medium a-color-base a-text-normal\">Samsung Galaxy M12 (Blue,4GB RAM, 64GB Storage) 6000 mAh with 8nm Processor | True 48 MP Quad Camera | 90Hz Refresh Rate</span>,\n",
              " <span class=\"a-size-medium a-color-base a-text-normal\">Samsung Galaxy Note 20 (Mystic Green, 8GB RAM, 256GB Storage) with No Cost EMI/Additional Exchange Offers</span>]"
            ]
          },
          "metadata": {
            "tags": []
          },
          "execution_count": 16
        }
      ]
    },
    {
      "cell_type": "code",
      "metadata": {
        "colab": {
          "base_uri": "https://localhost:8080/"
        },
        "id": "u8WT8NK8HiKC",
        "outputId": "71e9c0b2-f5fd-4d4e-ed46-232b1d1b60f3"
      },
      "source": [
        "#\n",
        "for i in r:\n",
        "  print(i.text)"
      ],
      "execution_count": 13,
      "outputs": [
        {
          "output_type": "stream",
          "text": [
            "4.6 out of 5 stars\n",
            "4.5 out of 5 stars\n",
            "4.2 out of 5 stars\n",
            "4.2 out of 5 stars\n",
            "4.3 out of 5 stars\n",
            "4.3 out of 5 stars\n",
            "4.2 out of 5 stars\n",
            "4.2 out of 5 stars\n",
            "4.3 out of 5 stars\n",
            "4.1 out of 5 stars\n",
            "3.9 out of 5 stars\n",
            "4.3 out of 5 stars\n",
            "4.2 out of 5 stars\n",
            "4.2 out of 5 stars\n",
            "4.2 out of 5 stars\n",
            "4.2 out of 5 stars\n",
            "4.1 out of 5 stars\n",
            "3.1 out of 5 stars\n",
            "4.2 out of 5 stars\n",
            "4.3 out of 5 stars\n",
            "4.1 out of 5 stars\n",
            "3.9 out of 5 stars\n",
            "4 Stars & Up\n",
            "3 Stars & Up\n",
            "2 Stars & Up\n",
            "1 Star & Up\n"
          ],
          "name": "stdout"
        }
      ]
    },
    {
      "cell_type": "code",
      "metadata": {
        "id": "yuaUHMEtJXKD"
      },
      "source": [
        "df=pd.DataFrame({\"Product Discription\" : disc , \"Price\" : price , \"Ratings\" : rating})\n",
        "df.head()"
      ],
      "execution_count": null,
      "outputs": []
    },
    {
      "cell_type": "code",
      "metadata": {
        "id": "YJZIIucXmUXa"
      },
      "source": [
        "df.to_csv(\"final.csv\" , index=False  ,encoding=\"utf-8\")"
      ],
      "execution_count": null,
      "outputs": []
    },
    {
      "cell_type": "code",
      "metadata": {
        "id": "K8SAvFNzwKlm"
      },
      "source": [
        ""
      ],
      "execution_count": null,
      "outputs": []
    }
  ]
}